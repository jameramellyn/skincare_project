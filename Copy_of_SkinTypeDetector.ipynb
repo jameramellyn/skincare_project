{
  "cells": [
    {
      "cell_type": "markdown",
      "metadata": {
        "id": "view-in-github",
        "colab_type": "text"
      },
      "source": [
        "<a href=\"https://colab.research.google.com/github/jameramellyn/skincare_project/blob/not-k-cross-validation/Copy_of_SkinTypeDetector.ipynb\" target=\"_parent\"><img src=\"https://colab.research.google.com/assets/colab-badge.svg\" alt=\"Open In Colab\"/></a>"
      ]
    },
    {
      "cell_type": "code",
      "execution_count": null,
      "metadata": {
        "colab": {
          "base_uri": "https://localhost:8080/"
        },
        "id": "4iuty9OKamwA",
        "outputId": "ba664b5f-b30c-4ff6-a240-e77aaf58cd72"
      },
      "outputs": [
        {
          "output_type": "stream",
          "name": "stdout",
          "text": [
            "Requirement already satisfied: Pillow in /usr/local/lib/python3.11/dist-packages (11.1.0)\n"
          ]
        }
      ],
      "source": [
        "import os\n",
        "import tensorflow as tf\n",
        "import numpy as np\n",
        "import pandas as pd\n",
        "import matplotlib.pyplot as plt\n",
        "from PIL import Image\n",
        "!pip install Pillow\n",
        "\n",
        "from numpy import asarray"
      ]
    },
    {
      "cell_type": "code",
      "execution_count": null,
      "metadata": {
        "colab": {
          "base_uri": "https://localhost:8080/"
        },
        "id": "OxuhqXVQarqY",
        "outputId": "552ee1b4-9d3d-47e7-c552-3f64579e4e58"
      },
      "outputs": [
        {
          "output_type": "stream",
          "name": "stdout",
          "text": [
            "Mounted at /content/drive\n"
          ]
        }
      ],
      "source": [
        "from google.colab import drive\n",
        "drive.mount('/content/drive')"
      ]
    },
    {
      "cell_type": "code",
      "execution_count": null,
      "metadata": {
        "colab": {
          "base_uri": "https://localhost:8080/"
        },
        "id": "7WugmDZJ3Edc",
        "outputId": "6e1ed392-f0b8-4656-ba00-0dba1db2085e"
      },
      "outputs": [
        {
          "output_type": "stream",
          "name": "stdout",
          "text": [
            "/content\n"
          ]
        }
      ],
      "source": [
        "!pwd\n",
        "images = '/content/drive/MyDrive/SkincareProject/Oily-Dry-Skin-Types'"
      ]
    },
    {
      "cell_type": "code",
      "execution_count": null,
      "metadata": {
        "id": "aQ9Yc-OXjrJd",
        "colab": {
          "base_uri": "https://localhost:8080/",
          "height": 341
        },
        "outputId": "f89a9c7f-67fd-4ceb-f241-53a67126312e"
      },
      "outputs": [
        {
          "output_type": "error",
          "ename": "FileNotFoundError",
          "evalue": "[Errno 2] No such file or directory: '/content/drive/MyDrive/SkincareProject/Oily-Dry-Skin-Types/train'",
          "traceback": [
            "\u001b[0;31m---------------------------------------------------------------------------\u001b[0m",
            "\u001b[0;31mFileNotFoundError\u001b[0m                         Traceback (most recent call last)",
            "\u001b[0;32m<ipython-input-5-b26bf8baaceb>\u001b[0m in \u001b[0;36m<cell line: 0>\u001b[0;34m()\u001b[0m\n\u001b[1;32m     14\u001b[0m     \u001b[0;32mreturn\u001b[0m \u001b[0mpd\u001b[0m\u001b[0;34m.\u001b[0m\u001b[0mDataFrame\u001b[0m\u001b[0;34m(\u001b[0m\u001b[0mdd\u001b[0m\u001b[0;34m)\u001b[0m\u001b[0;34m\u001b[0m\u001b[0;34m\u001b[0m\u001b[0m\n\u001b[1;32m     15\u001b[0m \u001b[0;34m\u001b[0m\u001b[0m\n\u001b[0;32m---> 16\u001b[0;31m \u001b[0mtrain_df\u001b[0m \u001b[0;34m=\u001b[0m \u001b[0mcreate_df\u001b[0m\u001b[0;34m(\u001b[0m\u001b[0;34m\"/content/drive/MyDrive/SkincareProject/Oily-Dry-Skin-Types/train\"\u001b[0m\u001b[0;34m)\u001b[0m\u001b[0;34m\u001b[0m\u001b[0;34m\u001b[0m\u001b[0m\n\u001b[0m\u001b[1;32m     17\u001b[0m \u001b[0mval_df\u001b[0m \u001b[0;34m=\u001b[0m \u001b[0mcreate_df\u001b[0m\u001b[0;34m(\u001b[0m\u001b[0;34m\"/content/drive/MyDrive/SkincareProject/Oily-Dry-Skin-Types/valid\"\u001b[0m\u001b[0;34m)\u001b[0m\u001b[0;34m\u001b[0m\u001b[0;34m\u001b[0m\u001b[0m\n\u001b[1;32m     18\u001b[0m \u001b[0mtest_df\u001b[0m \u001b[0;34m=\u001b[0m \u001b[0mcreate_df\u001b[0m\u001b[0;34m(\u001b[0m\u001b[0;34m\"/content/drive/MyDrive/SkincareProject/Oily-Dry-Skin-Types/test\"\u001b[0m\u001b[0;34m)\u001b[0m\u001b[0;34m\u001b[0m\u001b[0;34m\u001b[0m\u001b[0m\n",
            "\u001b[0;32m<ipython-input-5-b26bf8baaceb>\u001b[0m in \u001b[0;36mcreate_df\u001b[0;34m(base)\u001b[0m\n\u001b[1;32m      6\u001b[0m \u001b[0;32mdef\u001b[0m \u001b[0mcreate_df\u001b[0m\u001b[0;34m(\u001b[0m\u001b[0mbase\u001b[0m\u001b[0;34m)\u001b[0m\u001b[0;34m:\u001b[0m\u001b[0;34m\u001b[0m\u001b[0;34m\u001b[0m\u001b[0m\n\u001b[1;32m      7\u001b[0m     \u001b[0mdd\u001b[0m \u001b[0;34m=\u001b[0m \u001b[0;34m{\u001b[0m\u001b[0;34m\"images\"\u001b[0m\u001b[0;34m:\u001b[0m \u001b[0;34m[\u001b[0m\u001b[0;34m]\u001b[0m\u001b[0;34m,\u001b[0m \u001b[0;34m\"labels\"\u001b[0m\u001b[0;34m:\u001b[0m \u001b[0;34m[\u001b[0m\u001b[0;34m]\u001b[0m\u001b[0;34m}\u001b[0m\u001b[0;34m\u001b[0m\u001b[0;34m\u001b[0m\u001b[0m\n\u001b[0;32m----> 8\u001b[0;31m     \u001b[0;32mfor\u001b[0m \u001b[0mi\u001b[0m \u001b[0;32min\u001b[0m \u001b[0mos\u001b[0m\u001b[0;34m.\u001b[0m\u001b[0mlistdir\u001b[0m\u001b[0;34m(\u001b[0m\u001b[0mbase\u001b[0m\u001b[0;34m)\u001b[0m\u001b[0;34m:\u001b[0m\u001b[0;34m\u001b[0m\u001b[0;34m\u001b[0m\u001b[0m\n\u001b[0m\u001b[1;32m      9\u001b[0m         \u001b[0mlabel\u001b[0m \u001b[0;34m=\u001b[0m \u001b[0mos\u001b[0m\u001b[0;34m.\u001b[0m\u001b[0mpath\u001b[0m\u001b[0;34m.\u001b[0m\u001b[0mjoin\u001b[0m\u001b[0;34m(\u001b[0m\u001b[0mbase\u001b[0m\u001b[0;34m,\u001b[0m \u001b[0mi\u001b[0m\u001b[0;34m)\u001b[0m\u001b[0;34m\u001b[0m\u001b[0;34m\u001b[0m\u001b[0m\n\u001b[1;32m     10\u001b[0m         \u001b[0;32mfor\u001b[0m \u001b[0mj\u001b[0m \u001b[0;32min\u001b[0m \u001b[0mos\u001b[0m\u001b[0;34m.\u001b[0m\u001b[0mlistdir\u001b[0m\u001b[0;34m(\u001b[0m\u001b[0mlabel\u001b[0m\u001b[0;34m)\u001b[0m\u001b[0;34m:\u001b[0m\u001b[0;34m\u001b[0m\u001b[0;34m\u001b[0m\u001b[0m\n",
            "\u001b[0;31mFileNotFoundError\u001b[0m: [Errno 2] No such file or directory: '/content/drive/MyDrive/SkincareProject/Oily-Dry-Skin-Types/train'"
          ]
        }
      ],
      "source": [
        "#the dataset only comes with images that have been sorted into folders, but not formally labelled\n",
        "#this function will help to label each of the images as the dataframe is being created\n",
        "label_index = {\"dry\": 0, \"normal\": 1, \"oily\": 2}\n",
        "index_label = {0: \"dry\", 1: \"normal\", 2: \"oily\"}\n",
        "\n",
        "def create_df(base):\n",
        "    dd = {\"images\": [], \"labels\": []}\n",
        "    for i in os.listdir(base):\n",
        "        label = os.path.join(base, i)\n",
        "        for j in os.listdir(label):\n",
        "            img = os.path.join(label, j)\n",
        "            dd[\"images\"] += [img]\n",
        "            dd[\"labels\"] += [label_index[i]]\n",
        "    return pd.DataFrame(dd)\n",
        "\n",
        "train_df = create_df(\"/content/drive/MyDrive/SkincareProject/Oily-Dry-Skin-Types/train\")\n",
        "val_df = create_df(\"/content/drive/MyDrive/SkincareProject/Oily-Dry-Skin-Types/valid\")\n",
        "test_df = create_df(\"/content/drive/MyDrive/SkincareProject/Oily-Dry-Skin-Types/test\")\n"
      ]
    },
    {
      "cell_type": "code",
      "execution_count": null,
      "metadata": {
        "id": "innVNAaGTpQL"
      },
      "outputs": [],
      "source": [
        "def load_image(file_path):\n",
        "    with Image.open(file_path) as img:\n",
        "        img = img.convert('RGB')  # Ensure image is in RGB mode\n",
        "        return np.array(img)\n",
        "\n",
        "def extract_image_data(file_path):\n",
        "    img_array = load_image(file_path)\n",
        "    height, width, channels = img_array.shape\n",
        "    return pd.Series({\n",
        "        'height': height,\n",
        "        'width': width,\n",
        "        'channels': channels,\n",
        "        'image_array': img_array\n",
        "    })\n",
        "\n",
        "# Apply the function to each file path in the dataframe\n",
        "train_df_data = train_df.iloc[:, 0].apply(extract_image_data)\n",
        "val_df_data = val_df.iloc[:, 0].apply(extract_image_data)\n",
        "test_df_data = test_df.iloc[:, 0].apply(extract_image_data)\n",
        "\n",
        "# Join the results with the original dataframe\n",
        "train_df = train_df.join(train_df_data)\n",
        "val_df = val_df.join(val_df_data)\n",
        "test_df = test_df.join(test_df_data)\n",
        "\n"
      ]
    },
    {
      "cell_type": "code",
      "execution_count": null,
      "metadata": {
        "id": "eF2dxKgPX-9i"
      },
      "outputs": [],
      "source": [
        "train_df_array = asarray(train_df)\n",
        "# Add a new dimension at the beginning (axis=0)\n",
        "train_df_new = np.expand_dims(train_df_array, axis=0)\n",
        "train_df_new = train_df_new[:,:,:3]\n",
        "\n",
        "print(type(train_df_new))\n",
        "print(train_df_new)\n",
        "train_df_new.shape"
      ]
    },
    {
      "cell_type": "code",
      "execution_count": null,
      "metadata": {
        "id": "fjA4gNbwoLVL"
      },
      "outputs": [],
      "source": [
        "# Step 1: Extract the image arrays from the DataFrame\n",
        "x_test = np.stack(train_df['image_array'].values)\n",
        "\n",
        "# Step 2: Ensure the shape is correct\n",
        "# x_test should already have the shape (num_images, height, width, channels)\n",
        "# but you can verify or reshape if necessary:\n",
        "x_test = x_test.reshape((len(x_test), 640, 640, 3))\n",
        "\n",
        "# Step 3: Normalize the images\n",
        "x_test = x_test / 255.0"
      ]
    },
    {
      "cell_type": "code",
      "execution_count": null,
      "metadata": {
        "id": "kW3z9TLyx8Ml"
      },
      "outputs": [],
      "source": [
        "#x is images, y is labels\n",
        "x_train = train_df['images']\n",
        "y_train = train_df['labels']\n",
        "x_test = test_df['images']\n",
        "y_test = test_df['labels']\n",
        "\n",
        "# normalize\n",
        "def normalize(df):\n",
        "  j =0\n",
        "  for i in df:\n",
        "    im = Image.open(i[0])\n",
        "    pixels = asarray(im)\n",
        "    pixels = pixels.astype('float32')\n",
        "    pixels /= 255.0\n",
        "    j =j+ 1\n",
        "    print('Min: %.3f, Max: %.3f' % (pixels.min(), pixels.max()))\n",
        "    print(j)\n",
        "\n",
        "\n",
        "normalize(x_train)\n",
        "normalize(x_test)"
      ]
    },
    {
      "cell_type": "code",
      "execution_count": null,
      "metadata": {
        "id": "TDILEzs3MhUv"
      },
      "outputs": [],
      "source": [
        "# Reshape the images.\n",
        "def expand(df):\n",
        "\n",
        "\n",
        "x_train = np.expand_dims(x_train, axis=1)\n",
        "x_test = np.expand_dims(x_test, axis=1)"
      ]
    },
    {
      "cell_type": "code",
      "execution_count": null,
      "metadata": {
        "id": "YEWlfNd8k4ec"
      },
      "outputs": [],
      "source": [
        "\n",
        "\n",
        "#visualizing images\n",
        "\n",
        "def plot_example_images(df, num_classes=3, num_images_per_class=5):\n",
        "    fig, axes = plt.subplots(num_classes, num_images_per_class, figsize=(15, 5))\n",
        "\n",
        "    for class_id in range(num_classes):\n",
        "        class_images = df[df['labels'] == class_id].sample(num_images_per_class)\n",
        "        for i, (index, row) in enumerate(class_images.iterrows()):\n",
        "            img = Image.open(row['images'])\n",
        "            axes[class_id, i].imshow(img)\n",
        "            axes[class_id, i].axis('off')\n",
        "            if i == 0:\n",
        "                axes[class_id, i].set_title(f'Class {class_id}')\n",
        "\n",
        "    plt.tight_layout()\n",
        "    plt.show()\n",
        "\n",
        "plot_example_images(train_df)"
      ]
    },
    {
      "cell_type": "code",
      "execution_count": null,
      "metadata": {
        "id": "7wtmZdRgs1-W"
      },
      "outputs": [],
      "source": [
        "# create CNN structure\n",
        "model = Sequential()\n",
        "model.add(Input(shape=(28, 28, 1)))\n",
        "model.add(Conv2D(32, (3, 3), activation='relu'))\n",
        "model.add(MaxPooling2D((2, 2)))\n",
        "model.add(Conv2D(64, (3, 3), activation='relu'))\n",
        "model.add(MaxPooling2D((2, 2)))\n",
        "model.add(Conv2D(64, (3, 3), activation='relu')) # notice no MaxPool after this one\n",
        "model.add(Flatten())\n",
        "model.add(Dense(64, activation='relu'))\n",
        "model.add(Dense(10, activation='softmax'))\n",
        "model.summary()\n",
        "\n",
        "# compile and train model\n",
        "model.compile(optimizer='adam', loss='categorical_crossentropy', metrics=['accuracy'])\n",
        "model.fit(x_train, y_train_oh, epochs=10, batch_size=32, validation_data=(x_val, y_val_oh))\n",
        "\n",
        "# evaluate accuracy\n",
        "y_pred = model.predict(x_test)\n",
        "y_pred = tf.argmax(y_pred, axis=1)\n",
        "# y_test = tf.argmax(y_test_oh, axis=1)\n",
        "loss, acc = model.evaluate(x_test, y_test_oh)\n",
        "print(\"Test accuracy:\", acc)\n",
        "print(\"Confusion matrix:\\n\", confusion_matrix(y_test, y_pred))\n",
        "\n"
      ]
    },
    {
      "cell_type": "code",
      "execution_count": null,
      "metadata": {
        "id": "E4D3qaRJ5vfz"
      },
      "outputs": [],
      "source": []
    }
  ],
  "metadata": {
    "colab": {
      "provenance": [],
      "include_colab_link": true
    },
    "kernelspec": {
      "display_name": "Python 3",
      "name": "python3"
    },
    "language_info": {
      "name": "python"
    }
  },
  "nbformat": 4,
  "nbformat_minor": 0
}